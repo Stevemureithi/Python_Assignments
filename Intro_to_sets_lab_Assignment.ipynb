{
 "cells": [
  {
   "cell_type": "markdown",
   "id": "bd3fccf3",
   "metadata": {},
   "source": [
    "##### Question (b)\n",
    "# Answers from the calculations by hand"
   ]
  },
  {
   "cell_type": "code",
   "execution_count": 50,
   "id": "c90bae80",
   "metadata": {},
   "outputs": [],
   "source": [
    "ans1 = {8}"
   ]
  },
  {
   "cell_type": "code",
   "execution_count": 59,
   "id": "e15f312d",
   "metadata": {},
   "outputs": [],
   "source": [
    "ans2 = {2,3,4,6,8,9,10,11}"
   ]
  },
  {
   "cell_type": "code",
   "execution_count": 3,
   "id": "5131a42e",
   "metadata": {},
   "outputs": [],
   "source": [
    "ans3 = {1,3,5,7,9,11,12}"
   ]
  },
  {
   "cell_type": "code",
   "execution_count": 4,
   "id": "8b8f0c15",
   "metadata": {},
   "outputs": [],
   "source": [
    "ans4 = {1,2,4,5,6,7,9,10}"
   ]
  },
  {
   "cell_type": "code",
   "execution_count": null,
   "id": "8bf7e07d",
   "metadata": {},
   "outputs": [],
   "source": [
    "ans5 = {1,5,7,9}"
   ]
  },
  {
   "cell_type": "code",
   "execution_count": 102,
   "id": "09ba2f25",
   "metadata": {},
   "outputs": [],
   "source": [
    "ans6 = {12}"
   ]
  },
  {
   "cell_type": "code",
   "execution_count": 103,
   "id": "1d45074c",
   "metadata": {},
   "outputs": [],
   "source": [
    "ans7 = {2,4,6,10}"
   ]
  },
  {
   "cell_type": "code",
   "execution_count": 95,
   "id": "11a43078",
   "metadata": {},
   "outputs": [],
   "source": [
    "ans8 = {9}"
   ]
  },
  {
   "cell_type": "code",
   "execution_count": 96,
   "id": "120fdf7d",
   "metadata": {},
   "outputs": [],
   "source": [
    "ans9 = {2,6,8,9}"
   ]
  },
  {
   "cell_type": "markdown",
   "id": "39adc32e",
   "metadata": {},
   "source": [
    "##### Question (c) Creating the sets"
   ]
  },
  {
   "cell_type": "code",
   "execution_count": 35,
   "id": "ef498f9a",
   "metadata": {},
   "outputs": [
    {
     "data": {
      "text/plain": [
       "\"Type A: <class 'set'>, A: {2, 4, 6, 8, 10}\""
      ]
     },
     "execution_count": 35,
     "metadata": {},
     "output_type": "execute_result"
    }
   ],
   "source": [
    "# Create set A\n",
    "A = {2, 4, 6, 8, 10}\n",
    "f'Type A: {type(A)}, A: {A}' # \"Type A: <class 'set'>, A: {2, 4, 6, 8, 10}\""
   ]
  },
  {
   "cell_type": "code",
   "execution_count": 36,
   "id": "962150df",
   "metadata": {},
   "outputs": [
    {
     "data": {
      "text/plain": [
       "\"Type B: <class 'set'>, A: {8, 11, 3, 12}\""
      ]
     },
     "execution_count": 36,
     "metadata": {},
     "output_type": "execute_result"
    }
   ],
   "source": [
    "# Create set B\n",
    "B = {8, 11, 3, 12}\n",
    "f'Type B: {type(B)}, A: {B}' # \"Type B: <class 'set'>, B: {8, 11, 3, 12}\""
   ]
  },
  {
   "cell_type": "code",
   "execution_count": 37,
   "id": "174f32ee",
   "metadata": {},
   "outputs": [
    {
     "data": {
      "text/plain": [
       "\"Type C: <class 'set'>, A: {2, 3, 6, 8, 9, 11}\""
      ]
     },
     "execution_count": 37,
     "metadata": {},
     "output_type": "execute_result"
    }
   ],
   "source": [
    "# Create set C\n",
    "C = {2, 3, 6, 8, 9, 11}\n",
    "f'Type C: {type(C)}, A: {C}' # \"Type C: <class 'set'>, C: {2, 3, 6, 8, 9, 11}\""
   ]
  },
  {
   "cell_type": "code",
   "execution_count": 38,
   "id": "16c0550e",
   "metadata": {},
   "outputs": [
    {
     "data": {
      "text/plain": [
       "\"Type U: <class 'set'>, A: {1, 2, 3, 4, 5, 6, 7, 8, 9, 10, 11, 12}\""
      ]
     },
     "execution_count": 38,
     "metadata": {},
     "output_type": "execute_result"
    }
   ],
   "source": [
    "# Create universal set U\n",
    "U = {1, 2, 3, 4, 5, 6, 7, 8, 9, 10, 11, 12}\n",
    "f'Type U: {type(U)}, A: {U}' # \"Type U: <class 'set'>, U: {1, 2, 3, 4, 5, 6, 7, 8, 9, 10, 11, 12}\""
   ]
  },
  {
   "cell_type": "markdown",
   "id": "4ea10060",
   "metadata": {},
   "source": [
    "##### Calculating answers using Python"
   ]
  },
  {
   "cell_type": "code",
   "execution_count": null,
   "id": "915d17a2",
   "metadata": {},
   "outputs": [
    {
     "name": "stdout",
     "output_type": "stream",
     "text": [
      "{8}\n"
     ]
    }
   ],
   "source": [
    "#1\n",
    "A_inters_B = A.intersection(B) # A intersection B\n",
    "print(A_inters_B)"
   ]
  },
  {
   "cell_type": "code",
   "execution_count": 58,
   "id": "8e0ce61f",
   "metadata": {},
   "outputs": [
    {
     "name": "stdout",
     "output_type": "stream",
     "text": [
      "{2, 3, 4, 6, 8, 9, 10, 11}\n"
     ]
    }
   ],
   "source": [
    "#2\n",
    "A_union_C = A|C\n",
    "print(A_union_C)"
   ]
  },
  {
   "cell_type": "code",
   "execution_count": 65,
   "id": "e39e3980",
   "metadata": {},
   "outputs": [
    {
     "name": "stdout",
     "output_type": "stream",
     "text": [
      "{1, 3, 5, 7, 9, 11, 12}\n"
     ]
    }
   ],
   "source": [
    "#3\n",
    "A_comp = U-A\n",
    "print (A_comp)"
   ]
  },
  {
   "cell_type": "code",
   "execution_count": 71,
   "id": "aa09522c",
   "metadata": {},
   "outputs": [
    {
     "name": "stdout",
     "output_type": "stream",
     "text": [
      "{1, 2, 4, 5, 6, 7, 9, 10}\n"
     ]
    }
   ],
   "source": [
    "#4\n",
    "B_comp = U-B\n",
    "print(B_comp)"
   ]
  },
  {
   "cell_type": "code",
   "execution_count": 77,
   "id": "b6c30684",
   "metadata": {},
   "outputs": [
    {
     "name": "stdout",
     "output_type": "stream",
     "text": [
      "{1, 5, 9, 7}\n"
     ]
    }
   ],
   "source": [
    "# 5\n",
    "A_union_B_comp = U - (A|B)\n",
    "print(A_union_B_comp)"
   ]
  },
  {
   "cell_type": "code",
   "execution_count": 75,
   "id": "fedf3fd3",
   "metadata": {},
   "outputs": [
    {
     "name": "stdout",
     "output_type": "stream",
     "text": [
      "{12}\n"
     ]
    }
   ],
   "source": [
    "#6\n",
    "B_inters_C_comp = B & (U-C)\n",
    "print(B_inters_C_comp)"
   ]
  },
  {
   "cell_type": "code",
   "execution_count": 73,
   "id": "40abe205",
   "metadata": {},
   "outputs": [
    {
     "name": "stdout",
     "output_type": "stream",
     "text": [
      "{2, 10, 4, 6}\n"
     ]
    }
   ],
   "source": [
    "#7\n",
    "compl_of_B = A-B\n",
    "print(compl_of_B)"
   ]
  },
  {
   "cell_type": "code",
   "execution_count": 80,
   "id": "2770a9b8",
   "metadata": {},
   "outputs": [
    {
     "name": "stdout",
     "output_type": "stream",
     "text": [
      "{9}\n"
     ]
    }
   ],
   "source": [
    "#8\n",
    "C_compl_B_compl_A = C-B-A\n",
    "print(C_compl_B_compl_A)"
   ]
  },
  {
   "cell_type": "code",
   "execution_count": 79,
   "id": "c70fc668",
   "metadata": {},
   "outputs": [
    {
     "name": "stdout",
     "output_type": "stream",
     "text": [
      "{2, 6, 8, 9}\n"
     ]
    }
   ],
   "source": [
    "#9\n",
    "C_inters_A_union_C_min_B = (C&A)| (C-B)\n",
    "print(C_inters_A_union_C_min_B)"
   ]
  },
  {
   "cell_type": "markdown",
   "id": "5f74e514",
   "metadata": {},
   "source": [
    "#### Checking the validity of answers\n"
   ]
  },
  {
   "cell_type": "code",
   "execution_count": 84,
   "id": "4f67f758",
   "metadata": {},
   "outputs": [
    {
     "data": {
      "text/plain": [
       "True"
      ]
     },
     "execution_count": 84,
     "metadata": {},
     "output_type": "execute_result"
    }
   ],
   "source": [
    "#1 A∩B\n",
    "A_inters_B == ans1"
   ]
  },
  {
   "cell_type": "code",
   "execution_count": 85,
   "id": "0621ce8c",
   "metadata": {},
   "outputs": [
    {
     "data": {
      "text/plain": [
       "True"
      ]
     },
     "execution_count": 85,
     "metadata": {},
     "output_type": "execute_result"
    }
   ],
   "source": [
    "#2 A∪C\n",
    "A_union_C == ans2"
   ]
  },
  {
   "cell_type": "code",
   "execution_count": 86,
   "id": "c683eb1d",
   "metadata": {},
   "outputs": [
    {
     "data": {
      "text/plain": [
       "True"
      ]
     },
     "execution_count": 86,
     "metadata": {},
     "output_type": "execute_result"
    }
   ],
   "source": [
    "#3  A complement\n",
    "A_comp == ans3"
   ]
  },
  {
   "cell_type": "code",
   "execution_count": 87,
   "id": "4417bf4f",
   "metadata": {},
   "outputs": [
    {
     "data": {
      "text/plain": [
       "True"
      ]
     },
     "execution_count": 87,
     "metadata": {},
     "output_type": "execute_result"
    }
   ],
   "source": [
    "#4 The absolute complement of B\n",
    "B_comp == ans4"
   ]
  },
  {
   "cell_type": "code",
   "execution_count": 105,
   "id": "4920c3a3",
   "metadata": {},
   "outputs": [
    {
     "data": {
      "text/plain": [
       "False"
      ]
     },
     "execution_count": 105,
     "metadata": {},
     "output_type": "execute_result"
    }
   ],
   "source": [
    "#5 (A∪B) complement\n",
    "A_union_B_comp == ans5"
   ]
  },
  {
   "cell_type": "code",
   "execution_count": 104,
   "id": "0a4299c5",
   "metadata": {},
   "outputs": [
    {
     "data": {
      "text/plain": [
       "True"
      ]
     },
     "execution_count": 104,
     "metadata": {},
     "output_type": "execute_result"
    }
   ],
   "source": [
    "#6 B∩C′\n",
    "B_inters_C_comp == ans6"
   ]
  },
  {
   "cell_type": "code",
   "execution_count": 99,
   "id": "e2141ca3",
   "metadata": {},
   "outputs": [
    {
     "data": {
      "text/plain": [
       "True"
      ]
     },
     "execution_count": 99,
     "metadata": {},
     "output_type": "execute_result"
    }
   ],
   "source": [
    "#7 A∖B\n",
    "compl_of_B == ans7"
   ]
  },
  {
   "cell_type": "code",
   "execution_count": 100,
   "id": "5f013a83",
   "metadata": {},
   "outputs": [
    {
     "data": {
      "text/plain": [
       "True"
      ]
     },
     "execution_count": 100,
     "metadata": {},
     "output_type": "execute_result"
    }
   ],
   "source": [
    "#8 C∖(B∖A)\n",
    "C_compl_B_compl_A == ans8"
   ]
  },
  {
   "cell_type": "code",
   "execution_count": 101,
   "id": "f37e17c8",
   "metadata": {},
   "outputs": [
    {
     "data": {
      "text/plain": [
       "True"
      ]
     },
     "execution_count": 101,
     "metadata": {},
     "output_type": "execute_result"
    }
   ],
   "source": [
    "#9 (C∩A)∪(C∖B)\n",
    "\n",
    "C_inters_A_union_C_min_B == ans9\n"
   ]
  },
  {
   "cell_type": "markdown",
   "id": "35f160c4",
   "metadata": {},
   "source": [
    "#### The Inclusion Exclusion Principle"
   ]
  },
  {
   "cell_type": "code",
   "execution_count": 106,
   "id": "9e1a3582",
   "metadata": {},
   "outputs": [],
   "source": [
    "left_hand_eq = A|B|C"
   ]
  },
  {
   "cell_type": "code",
   "execution_count": 107,
   "id": "d00fc08d",
   "metadata": {},
   "outputs": [
    {
     "name": "stdout",
     "output_type": "stream",
     "text": [
      "{2, 3, 4, 6, 8, 9, 10, 11, 12}\n"
     ]
    }
   ],
   "source": [
    "print(left_hand_eq)"
   ]
  },
  {
   "cell_type": "code",
   "execution_count": 120,
   "id": "cc79a8e0",
   "metadata": {},
   "outputs": [],
   "source": [
    "# Finding the sizes (cardinality) of intersections\n",
    "n_A = len(A)\n",
    "n_B = len(B)\n",
    "n_C = len(C)\n",
    "\n",
    "n_A_and_B = len(A & B)\n",
    "n_A_and_C = len(A & C)\n",
    "n_B_and_C = len(B & C)\n",
    "\n",
    "n_A_and_B_and_C = len(A & B & C)\n"
   ]
  },
  {
   "cell_type": "code",
   "execution_count": 123,
   "id": "61803763",
   "metadata": {},
   "outputs": [
    {
     "name": "stdout",
     "output_type": "stream",
     "text": [
      "9\n"
     ]
    }
   ],
   "source": [
    "## Applying the inclusion-exclusion principle\n",
    "right_hand_eq = n_A + n_B + n_C - n_A_and_B - n_A_and_C - n_B_and_C + n_A_and_B_and_C\n",
    "\n",
    "print(right_hand_eq)"
   ]
  },
  {
   "cell_type": "code",
   "execution_count": 122,
   "id": "c6783b87",
   "metadata": {},
   "outputs": [
    {
     "data": {
      "text/plain": [
       "False"
      ]
     },
     "execution_count": 122,
     "metadata": {},
     "output_type": "execute_result"
    }
   ],
   "source": [
    "left_hand_eq == right_hand_eq"
   ]
  },
  {
   "cell_type": "markdown",
   "id": "24917847",
   "metadata": {},
   "source": [
    "#### Set Operations in Python"
   ]
  },
  {
   "cell_type": "code",
   "execution_count": 183,
   "id": "3a8ff681",
   "metadata": {},
   "outputs": [],
   "source": [
    "Nina = set([\"Cat\",\"Dog\",\"Rabbit\",\"Donkey\",\"Parrot\", \"Goldfish\"])\n",
    "Mary = set([\"Dog\",\"Chinchilla\",\"Horse\", \"Chicken\"])\n",
    "Eve = set([\"Rabbit\", \"Turtle\", \"Goldfish\"])"
   ]
  },
  {
   "cell_type": "code",
   "execution_count": 166,
   "id": "80fd637a",
   "metadata": {},
   "outputs": [],
   "source": [
    "# Removing turtle from Eve's pet list:\n",
    "Eve.remove(\"Turtle\")"
   ]
  },
  {
   "cell_type": "code",
   "execution_count": 167,
   "id": "312b3c3b",
   "metadata": {},
   "outputs": [
    {
     "data": {
      "text/plain": [
       "2"
      ]
     },
     "execution_count": 167,
     "metadata": {},
     "output_type": "execute_result"
    }
   ],
   "source": [
    "len(Eve)"
   ]
  },
  {
   "cell_type": "code",
   "execution_count": 168,
   "id": "4927a7a9",
   "metadata": {},
   "outputs": [
    {
     "name": "stdout",
     "output_type": "stream",
     "text": [
      "Goldfish\n",
      "Rabbit\n"
     ]
    }
   ],
   "source": [
    "# Checking for number of pets in  Eve's updated pet list:\n",
    "for element in Eve:\n",
    "    print (element)"
   ]
  },
  {
   "cell_type": "code",
   "execution_count": 184,
   "id": "eb91a007",
   "metadata": {},
   "outputs": [],
   "source": [
    "# Adding Mary's pets to Nina's pet list\n",
    "Nina.update(Mary)"
   ]
  },
  {
   "cell_type": "code",
   "execution_count": 185,
   "id": "0a2310e4",
   "metadata": {},
   "outputs": [
    {
     "name": "stdout",
     "output_type": "stream",
     "text": [
      "Chinchilla\n",
      "Cat\n",
      "Rabbit\n",
      "Goldfish\n",
      "Donkey\n",
      "Dog\n",
      "Chicken\n",
      "Horse\n",
      "Parrot\n"
     ]
    }
   ],
   "source": [
    "# Checking the number of pets in Nina's updated pet list after adding Mary's pets:\n",
    "for element in Nina:\n",
    "    print(element)"
   ]
  },
  {
   "cell_type": "code",
   "execution_count": 186,
   "id": "045ad2d0",
   "metadata": {},
   "outputs": [],
   "source": [
    "# Clearing Mary's pet list:\n",
    "Mary.clear()"
   ]
  },
  {
   "cell_type": "code",
   "execution_count": 187,
   "id": "e8b291ea",
   "metadata": {},
   "outputs": [],
   "source": [
    "# Checking Mary's pet list after clearing it:\n",
    "for elements in Mary:\n",
    "    print(element)"
   ]
  },
  {
   "cell_type": "code",
   "execution_count": 188,
   "id": "c8688940",
   "metadata": {},
   "outputs": [
    {
     "data": {
      "text/plain": [
       "9"
      ]
     },
     "execution_count": 188,
     "metadata": {},
     "output_type": "execute_result"
    }
   ],
   "source": [
    "# How many species Nina is taking care of right now:\n",
    "len(Nina)"
   ]
  },
  {
   "cell_type": "code",
   "execution_count": 189,
   "id": "7e14ff81",
   "metadata": {},
   "outputs": [],
   "source": [
    "#Nina's updated pet list after removing common pets to hand to Eve\n",
    "Nina.difference_update(Eve)"
   ]
  },
  {
   "cell_type": "code",
   "execution_count": 190,
   "id": "0a42ba2e",
   "metadata": {},
   "outputs": [
    {
     "data": {
      "text/plain": [
       "7"
      ]
     },
     "execution_count": 190,
     "metadata": {},
     "output_type": "execute_result"
    }
   ],
   "source": [
    "len(Nina)"
   ]
  },
  {
   "cell_type": "markdown",
   "id": "0e25ee73",
   "metadata": {},
   "source": [
    "#### EU Dataset Analysis"
   ]
  },
  {
   "cell_type": "code",
   "execution_count": 200,
   "id": "06ffc3f7",
   "metadata": {},
   "outputs": [],
   "source": [
    "import pandas as pd\n",
    "\n",
    "# Load Europe and EU\n",
    "europe = pd.read_excel('Europe_and_EU.xlsx', sheet_name = 'Europe') \n",
    "eu = pd.read_excel('Europe_and_EU.xlsx', sheet_name = 'EU')\n",
    "# Your code here to remove any whitespace from names"
   ]
  },
  {
   "cell_type": "code",
   "execution_count": 201,
   "id": "3e798959",
   "metadata": {},
   "outputs": [
    {
     "data": {
      "text/html": [
       "<div>\n",
       "<style scoped>\n",
       "    .dataframe tbody tr th:only-of-type {\n",
       "        vertical-align: middle;\n",
       "    }\n",
       "\n",
       "    .dataframe tbody tr th {\n",
       "        vertical-align: top;\n",
       "    }\n",
       "\n",
       "    .dataframe thead th {\n",
       "        text-align: right;\n",
       "    }\n",
       "</style>\n",
       "<table border=\"1\" class=\"dataframe\">\n",
       "  <thead>\n",
       "    <tr style=\"text-align: right;\">\n",
       "      <th></th>\n",
       "      <th>Rank</th>\n",
       "      <th>Country</th>\n",
       "      <th>Population</th>\n",
       "      <th>% of population</th>\n",
       "      <th>Average relative annual growth (%)</th>\n",
       "      <th>Average absolute annual growth</th>\n",
       "      <th>Estimated doubling time (Years)</th>\n",
       "      <th>Official figure (where available)</th>\n",
       "      <th>Date of last figure</th>\n",
       "      <th>Regional grouping</th>\n",
       "      <th>Source</th>\n",
       "    </tr>\n",
       "  </thead>\n",
       "  <tbody>\n",
       "    <tr>\n",
       "      <th>0</th>\n",
       "      <td>1.0</td>\n",
       "      <td>Russia</td>\n",
       "      <td>143964709</td>\n",
       "      <td>17.15</td>\n",
       "      <td>0.19</td>\n",
       "      <td>294285</td>\n",
       "      <td>368</td>\n",
       "      <td>146839993</td>\n",
       "      <td>2017-01-01 00:00:00</td>\n",
       "      <td>EAEU</td>\n",
       "      <td>[1]</td>\n",
       "    </tr>\n",
       "    <tr>\n",
       "      <th>1</th>\n",
       "      <td>2.0</td>\n",
       "      <td>Germany</td>\n",
       "      <td>82521653</td>\n",
       "      <td>9.80</td>\n",
       "      <td>1.20</td>\n",
       "      <td>600000</td>\n",
       "      <td>90</td>\n",
       "      <td>82800000</td>\n",
       "      <td>2016-12-31 00:00:00</td>\n",
       "      <td>EU</td>\n",
       "      <td>Official estimate</td>\n",
       "    </tr>\n",
       "    <tr>\n",
       "      <th>2</th>\n",
       "      <td>3.0</td>\n",
       "      <td>Turkey</td>\n",
       "      <td>80810000</td>\n",
       "      <td>9.60</td>\n",
       "      <td>1.34</td>\n",
       "      <td>1035000</td>\n",
       "      <td>52</td>\n",
       "      <td>77695904</td>\n",
       "      <td>2016-12-31 00:00:00</td>\n",
       "      <td>NaN</td>\n",
       "      <td>[2]</td>\n",
       "    </tr>\n",
       "  </tbody>\n",
       "</table>\n",
       "</div>"
      ],
      "text/plain": [
       "   Rank    Country  Population  % of population  \\\n",
       "0   1.0     Russia   143964709            17.15   \n",
       "1   2.0   Germany     82521653             9.80   \n",
       "2   3.0    Turkey     80810000             9.60   \n",
       "\n",
       "   Average relative annual growth (%)  Average absolute annual growth  \\\n",
       "0                                0.19                          294285   \n",
       "1                                1.20                          600000   \n",
       "2                                1.34                         1035000   \n",
       "\n",
       "  Estimated doubling time (Years)  Official figure (where available)  \\\n",
       "0                             368                          146839993   \n",
       "1                              90                           82800000   \n",
       "2                              52                           77695904   \n",
       "\n",
       "   Date of last figure Regional grouping             Source  \n",
       "0  2017-01-01 00:00:00             EAEU                 [1]  \n",
       "1  2016-12-31 00:00:00               EU   Official estimate  \n",
       "2  2016-12-31 00:00:00               NaN                [2]  "
      ]
     },
     "execution_count": 201,
     "metadata": {},
     "output_type": "execute_result"
    }
   ],
   "source": [
    "europe.head(3)"
   ]
  },
  {
   "cell_type": "code",
   "execution_count": 202,
   "id": "e498d44d",
   "metadata": {},
   "outputs": [
    {
     "data": {
      "text/html": [
       "<div>\n",
       "<style scoped>\n",
       "    .dataframe tbody tr th:only-of-type {\n",
       "        vertical-align: middle;\n",
       "    }\n",
       "\n",
       "    .dataframe tbody tr th {\n",
       "        vertical-align: top;\n",
       "    }\n",
       "\n",
       "    .dataframe thead th {\n",
       "        text-align: right;\n",
       "    }\n",
       "</style>\n",
       "<table border=\"1\" class=\"dataframe\">\n",
       "  <thead>\n",
       "    <tr style=\"text-align: right;\">\n",
       "      <th></th>\n",
       "      <th>Rank</th>\n",
       "      <th>Country</th>\n",
       "      <th>2017 population</th>\n",
       "      <th>% of pop.</th>\n",
       "      <th>Average relative annual growth</th>\n",
       "      <th>Average absolute annual growth</th>\n",
       "      <th>Official figure</th>\n",
       "      <th>Date of last figure</th>\n",
       "      <th>Source</th>\n",
       "    </tr>\n",
       "  </thead>\n",
       "  <tbody>\n",
       "    <tr>\n",
       "      <th>0</th>\n",
       "      <td>1</td>\n",
       "      <td>Germany</td>\n",
       "      <td>82800000</td>\n",
       "      <td>16.18</td>\n",
       "      <td>0.76</td>\n",
       "      <td>628876</td>\n",
       "      <td>82576900</td>\n",
       "      <td>2017-03-31</td>\n",
       "      <td>Official estimate</td>\n",
       "    </tr>\n",
       "    <tr>\n",
       "      <th>1</th>\n",
       "      <td>2</td>\n",
       "      <td>France</td>\n",
       "      <td>67210459</td>\n",
       "      <td>13.10</td>\n",
       "      <td>0.40</td>\n",
       "      <td>265557</td>\n",
       "      <td>67174000</td>\n",
       "      <td>2018-01-01</td>\n",
       "      <td>Monthly official estimate</td>\n",
       "    </tr>\n",
       "    <tr>\n",
       "      <th>2</th>\n",
       "      <td>3</td>\n",
       "      <td>United Kingdom</td>\n",
       "      <td>65808573</td>\n",
       "      <td>12.86</td>\n",
       "      <td>0.65</td>\n",
       "      <td>428793</td>\n",
       "      <td>65648100</td>\n",
       "      <td>2017-06-30</td>\n",
       "      <td>Official estimate</td>\n",
       "    </tr>\n",
       "  </tbody>\n",
       "</table>\n",
       "</div>"
      ],
      "text/plain": [
       "   Rank         Country  2017 population  % of pop.  \\\n",
       "0     1        Germany          82800000      16.18   \n",
       "1     2          France         67210459      13.10   \n",
       "2     3  United Kingdom         65808573      12.86   \n",
       "\n",
       "   Average relative annual growth  Average absolute annual growth  \\\n",
       "0                            0.76                          628876   \n",
       "1                            0.40                          265557   \n",
       "2                            0.65                          428793   \n",
       "\n",
       "   Official figure Date of last figure                     Source  \n",
       "0         82576900          2017-03-31          Official estimate  \n",
       "1         67174000          2018-01-01  Monthly official estimate  \n",
       "2         65648100          2017-06-30          Official estimate  "
      ]
     },
     "execution_count": 202,
     "metadata": {},
     "output_type": "execute_result"
    }
   ],
   "source": [
    "eu.head(3)"
   ]
  },
  {
   "cell_type": "code",
   "execution_count": 209,
   "id": "535c965f",
   "metadata": {},
   "outputs": [
    {
     "name": "stdout",
     "output_type": "stream",
     "text": [
      "[' Russia', ' Germany ', ' Turkey ', 'France', 'United Kingdom', ' Italy ', ' Spain ', ' Ukraine', ' Poland ', ' Romania ', ' Netherlands ', ' Belgium ', ' Greece ', ' Czech Republic ', ' Portugal ', ' Sweden ', ' Hungary ', ' Azerbaijan ', ' Belarus ', ' Serbia ', ' Austria ', '  Switzerland ', ' Bulgaria ', ' Denmark ', ' Finland ', ' Slovakia ', ' Norway ', ' Ireland ', ' Croatia ', ' Bosnia and Herzegovina ', ' Georgia ', ' Moldova ', ' Armenia ', ' Lithuania ', ' Albania ', ' Macedonia ', ' Slovenia ', ' Latvia ', ' Kosovo ', ' Estonia ', ' Cyprus ', ' Montenegro ', ' Luxembourg ', ' Malta ', ' Iceland ', ' Jersey (UK) ', ' Isle of Man (UK) ', ' Andorra ', ' Guernsey (UK) ', ' Faroe Islands (Denmark) ', ' Liechtenstein ', ' Monaco ', ' Gibraltar (UK)', ' San Marino ', ' Åland Islands (Finland) ', ' Svalbard (Norway) ', '  Vatican City ']\n"
     ]
    }
   ],
   "source": [
    "country_list = df['Country'].tolist()\n",
    "print (country_list)"
   ]
  },
  {
   "cell_type": "code",
   "execution_count": 213,
   "id": "fd808336",
   "metadata": {},
   "outputs": [
    {
     "data": {
      "text/plain": [
       "57"
      ]
     },
     "execution_count": 213,
     "metadata": {},
     "output_type": "execute_result"
    }
   ],
   "source": [
    "len(country_list)"
   ]
  },
  {
   "cell_type": "code",
   "execution_count": null,
   "id": "ae09421c",
   "metadata": {},
   "outputs": [],
   "source": [
    "unique_countries = list(set(country_list)) #Duplicates\n"
   ]
  },
  {
   "cell_type": "code",
   "execution_count": 215,
   "id": "528f8278",
   "metadata": {},
   "outputs": [
    {
     "data": {
      "text/plain": [
       "57"
      ]
     },
     "execution_count": 215,
     "metadata": {},
     "output_type": "execute_result"
    }
   ],
   "source": [
    "len(country_list)"
   ]
  },
  {
   "cell_type": "code",
   "execution_count": 217,
   "id": "051edcee",
   "metadata": {},
   "outputs": [],
   "source": [
    "country_set_EU = set(country_list)\n"
   ]
  },
  {
   "cell_type": "code",
   "execution_count": 220,
   "id": "8ca535f4",
   "metadata": {},
   "outputs": [
    {
     "data": {
      "text/plain": [
       "57"
      ]
     },
     "execution_count": 220,
     "metadata": {},
     "output_type": "execute_result"
    }
   ],
   "source": [
    "len(country_set_EU)"
   ]
  },
  {
   "cell_type": "code",
   "execution_count": 221,
   "id": "efc49661",
   "metadata": {},
   "outputs": [],
   "source": [
    "europe = pd.read_excel('Europe_and_EU.xlsx', sheet_name = 'Europe')"
   ]
  },
  {
   "cell_type": "code",
   "execution_count": 222,
   "id": "58242603",
   "metadata": {},
   "outputs": [
    {
     "name": "stdout",
     "output_type": "stream",
     "text": [
      "[' Russia', ' Germany ', ' Turkey ', 'France', 'United Kingdom', ' Italy ', ' Spain ', ' Ukraine', ' Poland ', ' Romania ', ' Netherlands ', ' Belgium ', ' Greece ', ' Czech Republic ', ' Portugal ', ' Sweden ', ' Hungary ', ' Azerbaijan ', ' Belarus ', ' Serbia ', ' Austria ', '  Switzerland ', ' Bulgaria ', ' Denmark ', ' Finland ', ' Slovakia ', ' Norway ', ' Ireland ', ' Croatia ', ' Bosnia and Herzegovina ', ' Georgia ', ' Moldova ', ' Armenia ', ' Lithuania ', ' Albania ', ' Macedonia ', ' Slovenia ', ' Latvia ', ' Kosovo ', ' Estonia ', ' Cyprus ', ' Montenegro ', ' Luxembourg ', ' Malta ', ' Iceland ', ' Jersey (UK) ', ' Isle of Man (UK) ', ' Andorra ', ' Guernsey (UK) ', ' Faroe Islands (Denmark) ', ' Liechtenstein ', ' Monaco ', ' Gibraltar (UK)', ' San Marino ', ' Åland Islands (Finland) ', ' Svalbard (Norway) ', '  Vatican City ']\n"
     ]
    }
   ],
   "source": [
    "Europe_country_list = df['Country'].tolist()\n",
    "print (Europe_country_list)"
   ]
  },
  {
   "cell_type": "code",
   "execution_count": 223,
   "id": "412d83dc",
   "metadata": {},
   "outputs": [
    {
     "data": {
      "text/plain": [
       "57"
      ]
     },
     "execution_count": 223,
     "metadata": {},
     "output_type": "execute_result"
    }
   ],
   "source": [
    "len(Europe_country_list)"
   ]
  }
 ],
 "metadata": {
  "kernelspec": {
   "display_name": "base",
   "language": "python",
   "name": "python3"
  },
  "language_info": {
   "codemirror_mode": {
    "name": "ipython",
    "version": 3
   },
   "file_extension": ".py",
   "mimetype": "text/x-python",
   "name": "python",
   "nbconvert_exporter": "python",
   "pygments_lexer": "ipython3",
   "version": "3.13.5"
  }
 },
 "nbformat": 4,
 "nbformat_minor": 5
}
